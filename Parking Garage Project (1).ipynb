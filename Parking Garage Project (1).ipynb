{
 "cells": [
  {
   "cell_type": "markdown",
   "metadata": {},
   "source": [
    "# Parking Garage Project\n",
    "\n",
    "Your assignment for today is to create a parking garage class to get more familiar with Object Oriented Programming(OOP). \n",
    "\n",
    "Your parking gargage class should have the following methods:\n",
    "- takeTicket\n",
    "   - This should decrease the amount of tickets available by 1\n",
    "   - This should decrease the amount of parkingSpaces available by 1\n",
    "- payForParking\n",
    "   - Display an input that waits for an amount from the user and store it in a variable\n",
    "   - If the payment variable is not empty then ->  display a message to the user that their ticket has been paid and they have 15mins to leave\n",
    "   - This should update the \"currentTicket\" dictionary key \"paid\" to True\n",
    "-leaveGarage\n",
    "   - If the ticket has been paid, display a message of \"Thank You, have a nice day\"\n",
    "   - If the ticket has not been paid, display an input prompt for payment\n",
    "      - Once paid, display message \"Thank you, have a nice day!\"\n",
    "   - Update parkingSpaces list to increase by 1\n",
    "   - Update tickets list to increase by 1\n",
    "\n",
    "You will need a few attributes as well:\n",
    "- tickets -> list\n",
    "- parkingSpaces -> list\n",
    "- currentTicket -> dictionary"
   ]
  },
  {
   "cell_type": "code",
   "execution_count": 1,
   "metadata": {},
   "outputs": [],
   "source": [
    "# Your Code will go here\n",
    "class ParkingGarage:\n",
    "    def __init__(self, num_tickets, num_spaces):\n",
    "        self.tickets = [i for i in range(1, num_tickets + 1)]\n",
    "        self.parkingSpaces = [i for i in range(1, num_spaces + 1)]\n",
    "        self.currentTicket = {}\n",
    "\n",
    "    def takeTicket(self):\n",
    "        if self.tickets:\n",
    "            ticket = self.tickets.pop(0)\n",
    "            space = self.parkingSpaces.pop(0)\n",
    "            self.currentTicket[ticket] = {\"paid\": False, \"space\": space}\n",
    "            print(f\"Your ticket number is {ticket}. Please park in space number {space}.\")\n",
    "        else:\n",
    "            print(\"Sorry, the garage is full.\")\n",
    "\n",
    "    def payForParking(self):\n",
    "        ticket = int(input(\"Please enter your ticket number: \"))\n",
    "        if ticket in self.currentTicket:\n",
    "            if not self.currentTicket[ticket][\"paid\"]:\n",
    "                payment = input(\"Please enter your payment amount: \")\n",
    "                self.currentTicket[ticket][\"paid\"] = True\n",
    "                print(\"Payment successful. You have 15 minutes to leave.\")\n",
    "            else:\n",
    "                print(\"This ticket has already been paid.\")\n",
    "        else:\n",
    "            print(\"Invalid ticket number.\")\n",
    "\n",
    "    def leaveGarage(self):\n",
    "        ticket = int(input(\"Please enter your ticket number: \"))\n",
    "        if ticket in self.currentTicket:\n",
    "            if self.currentTicket[ticket][\"paid\"]:\n",
    "                print(\"Thank you, have a nice day!\")\n",
    "                space = self.currentTicket[ticket][\"space\"]\n",
    "                self.parkingSpaces.append(space)\n",
    "                self.tickets.append(ticket)\n",
    "                del self.currentTicket[ticket]\n",
    "            else:\n",
    "                print(\"This ticket has not been paid.\")\n",
    "        else:\n",
    "            print(\"Invalid ticket number.\")"
   ]
  },
  {
   "cell_type": "code",
   "execution_count": 3,
   "metadata": {},
   "outputs": [
    {
     "name": "stdout",
     "output_type": "stream",
     "text": [
      "Your ticket number is 1. Please park in space number 1.\n",
      "Please enter your ticket number: 1\n",
      "Please enter your payment amount: 56\n",
      "Payment successful. You have 15 minutes to leave.\n",
      "Please enter your ticket number: 1\n",
      "Thank you, have a nice day!\n"
     ]
    }
   ],
   "source": [
    "# Create a parking garage object with 10 tickets and 5 parking spaces\n",
    "garage = ParkingGarage(10, 5)\n",
    "\n",
    "# Take a ticket\n",
    "garage.takeTicket()\n",
    "\n",
    "# Pay for parking\n",
    "garage.payForParking()\n",
    "\n",
    "# Leave the garage\n",
    "garage.leaveGarage()"
   ]
  }
 ],
 "metadata": {
  "kernelspec": {
   "display_name": "Python 3 (ipykernel)",
   "language": "python",
   "name": "python3"
  },
  "language_info": {
   "codemirror_mode": {
    "name": "ipython",
    "version": 3
   },
   "file_extension": ".py",
   "mimetype": "text/x-python",
   "name": "python",
   "nbconvert_exporter": "python",
   "pygments_lexer": "ipython3",
   "version": "3.9.13"
  }
 },
 "nbformat": 4,
 "nbformat_minor": 2
}
